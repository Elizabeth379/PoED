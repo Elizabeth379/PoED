{
 "cells": [
  {
   "cell_type": "markdown",
   "source": [
    "НАЧАЛЬНЫЕ УСЛОВИЯ\n",
    "\n",
    "Импорт библиотек, установка темы и чтение данных."
   ],
   "metadata": {
    "collapsed": false
   }
  },
  {
   "cell_type": "code",
   "execution_count": 2,
   "outputs": [],
   "source": [
    "from collections import Counter\n",
    "from functools import reduce\n",
    "import math\n",
    "import random\n",
    "\n",
    "import numpy as np  # только для проверок\n",
    "import matplotlib.pyplot as plt\n",
    "import matplotlib.gridspec as gridspec\n",
    "import seaborn as sns"
   ],
   "metadata": {
    "collapsed": false
   }
  },
  {
   "cell_type": "code",
   "execution_count": 3,
   "outputs": [],
   "source": [
    "sns.set_theme()"
   ],
   "metadata": {
    "collapsed": false
   }
  },
  {
   "cell_type": "code",
   "execution_count": 4,
   "outputs": [],
   "source": [
    "with (open('set_1.csv', 'r') as f1,\n",
    "      open('set_2.csv', 'r') as f2,\n",
    "      open('set_3.csv', 'r') as f3):\n",
    "\n",
    "    df1, df2, df3 = map(lambda s: list(map(float, s.split(','))), [f1.read(), f2.read(), f3.read()])"
   ],
   "metadata": {
    "collapsed": false
   }
  },
  {
   "cell_type": "markdown",
   "source": [
    "Определение функций `mean` и `std`\n",
    "\n",
    "Реализация функции mean в python означает работу с дискретными выборками данных, хранящимися в различных итерациях, таких как list, tuple, set и т. д. Значит, будет использоваться формула суммирования:"
   ],
   "metadata": {
    "collapsed": false
   }
  },
  {
   "cell_type": "markdown",
   "source": [
    "E[X] = $\\sum\\limits_i^Nx_i$P($x_i$)."
   ],
   "metadata": {
    "collapsed": false
   }
  },
  {
   "cell_type": "markdown",
   "source": [
    "Чтобы вычислить P($x_i$) использовалось 'collections.Counter', каждое из его значений делится на общую длину данных."
   ],
   "metadata": {
    "collapsed": false
   }
  },
  {
   "cell_type": "code",
   "execution_count": 6,
   "outputs": [],
   "source": [
    "def mean(data: list[float | int]) -> float:\n",
    "    \"\"\"Function for calculating mean value of the dataset.\n",
    "\n",
    "    :param data: list of any numbers.\n",
    "    :return: floating point number that represents mean value of the dataset.\n",
    "    \"\"\"\n",
    "    counter: Counter = Counter(data)\n",
    "    mean: float = sum([k * v / len(data) for k, v in counter.items()])\n",
    "\n",
    "    return mean"
   ],
   "metadata": {
    "collapsed": false
   }
  },
  {
   "cell_type": "code",
   "execution_count": null,
   "outputs": [],
   "source": [],
   "metadata": {
    "collapsed": false
   }
  }
 ],
 "metadata": {
  "kernelspec": {
   "display_name": "Python 3",
   "language": "python",
   "name": "python3"
  },
  "language_info": {
   "codemirror_mode": {
    "name": "ipython",
    "version": 2
   },
   "file_extension": ".py",
   "mimetype": "text/x-python",
   "name": "python",
   "nbconvert_exporter": "python",
   "pygments_lexer": "ipython2",
   "version": "2.7.6"
  }
 },
 "nbformat": 4,
 "nbformat_minor": 0
}
